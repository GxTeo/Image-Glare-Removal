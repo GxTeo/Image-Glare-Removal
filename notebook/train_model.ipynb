{
 "cells": [
  {
   "cell_type": "code",
   "execution_count": 1,
   "metadata": {},
   "outputs": [],
   "source": [
    "import torch \n",
    "from torch.utils.data import random_split\n",
    "import numpy as np\n",
    "torch.manual_seed(42)\n",
    "np.random.seed(42)\n",
    "\n",
    "\n",
    "import torch.nn as nn\n",
    "from torch.nn import MSELoss, L1Loss\n",
    "from torch.optim import Adam\n",
    "\n",
    "from torchvision import models, transforms\n",
    "from torch.utils.data import DataLoader, Dataset\n",
    "from PIL import Image\n",
    "import os\n",
    "\n",
    "from PIL import Image\n",
    "import os\n",
    "from tqdm import tqdm\n"
   ]
  },
  {
   "cell_type": "code",
   "execution_count": 2,
   "metadata": {},
   "outputs": [
    {
     "name": "stdout",
     "output_type": "stream",
     "text": [
      "cuda\n"
     ]
    }
   ],
   "source": [
    "device = torch.device(\"cuda\" if torch.cuda.is_available() else \"cpu\")\n",
    "print(device)"
   ]
  },
  {
   "cell_type": "code",
   "execution_count": 3,
   "metadata": {},
   "outputs": [],
   "source": [
    "import torch \n",
    "from torch.nn import Module,Conv2d,Softmax2d,ReLU,MaxPool2d,Dropout2d,Upsample,AdaptiveAvgPool2d,ConvTranspose2d,BatchNorm2d\n",
    "from torch import nn\n",
    "\n",
    "\n",
    "class Auto(Module):\n",
    "    def __init__(self):\n",
    "        super(Auto,self).__init__()\n",
    "\n",
    "        self.conv1=Conv2d(in_channels=1,out_channels=8,stride=2,kernel_size=(3,3),padding=1)\n",
    "        self.bn1=BatchNorm2d(8)\n",
    "        self.r1=ReLU()\n",
    "\n",
    "        self.conv2=Conv2d(in_channels=8,out_channels=16,stride=2,kernel_size=(3,3),padding=1)\n",
    "        self.bn2=BatchNorm2d(16)\n",
    "        self.r2=ReLU()\n",
    "\n",
    "        self.conv3=Conv2d(in_channels=16,out_channels=32,kernel_size=(3,3),stride=2,padding=1)\n",
    "        self.bn3=BatchNorm2d(32)\n",
    "        self.r3=ReLU()\n",
    "\n",
    "        self.conv4=Conv2d(in_channels=32,out_channels=64,kernel_size=(3,3),stride=2,padding=1)\n",
    "        self.bn4=BatchNorm2d(64)\n",
    "        self.r4=ReLU()\n",
    "\n",
    "        self.conv5=Conv2d(in_channels=64,out_channels=128,kernel_size=(3,3),stride=2,padding=1)\n",
    "        self.bn5=BatchNorm2d(128)\n",
    "        self.r5=ReLU()\n",
    "\n",
    "        self.conv6=Conv2d(in_channels=128,out_channels=256,kernel_size=(3,3),padding=1,stride=2)\n",
    "        self.bn6=BatchNorm2d(256)\n",
    "        self.r6=ReLU()\n",
    "\n",
    "        self.conv7=Conv2d(in_channels=256,out_channels=512,kernel_size=(3,3),padding=1,stride=2)\n",
    "        self.bn7=BatchNorm2d(512)\n",
    "        self.r7=ReLU()\n",
    "\n",
    "        self.dconv1=ConvTranspose2d(in_channels=512,out_channels=256,kernel_size=(3,3),padding=1,stride=2,output_padding=1)\n",
    "        self.bn8=BatchNorm2d(256)\n",
    "        self.r8=ReLU()\n",
    "\n",
    "        self.dconv2=ConvTranspose2d(in_channels=256,out_channels=128,kernel_size=(3,3),padding=1,stride=2,output_padding=1)\n",
    "        self.bn9=BatchNorm2d(128)\n",
    "        self.r9=ReLU()\n",
    "\n",
    "        self.dconv3=ConvTranspose2d(in_channels=128,out_channels=64,kernel_size=(3,3),stride=2,padding=1,output_padding=1)\n",
    "        self.bn10=BatchNorm2d(64)\n",
    "        self.r10=ReLU()\n",
    "\n",
    "        self.dconv4=ConvTranspose2d(in_channels=64,out_channels=32,kernel_size=(3,3),stride=2,padding=1,output_padding=1)\n",
    "        self.bn11=BatchNorm2d(32)\n",
    "        self.r11=ReLU()\n",
    "\n",
    "        self.dconv5=ConvTranspose2d(in_channels=32,out_channels=16,kernel_size=(3,3),stride=2,padding=1,output_padding=1)\n",
    "        self.bn12=BatchNorm2d(16)\n",
    "        self.r12=ReLU()\n",
    "\n",
    "        self.dconv6=ConvTranspose2d(in_channels=16,out_channels=8,padding=1,stride=2,kernel_size=(3,3),output_padding=1)\n",
    "        self.bn13=BatchNorm2d(8)\n",
    "        self.r13=ReLU()\n",
    "\n",
    "        self.dconv7=ConvTranspose2d(in_channels=8,out_channels=1,padding=1,stride=2,kernel_size=(3,3),output_padding=1)\n",
    "\n",
    "        #dropoouts\n",
    "        self.dp1=Dropout2d()\n",
    "        self.dp2=Dropout2d()\n",
    "        self.dp3=Dropout2d()\n",
    "        self.dp4=Dropout2d()\n",
    "        self.dp5=Dropout2d()\n",
    "        self.dp6=Dropout2d()\n",
    "        self.dp7=Dropout2d()\n",
    "        self.dp8=Dropout2d()\n",
    "        self.dp9=Dropout2d()\n",
    "        self.dp10=Dropout2d()\n",
    "        self.dp11=Dropout2d()\n",
    "        self.dp12=Dropout2d()\n",
    "        self.dp13=Dropout2d()\n",
    "\n",
    "    def _init_weights(self,module):\n",
    "        if isinstance(module,(nn.Conv2d,nn.BatchNorm2d)):\n",
    "            if module.bias.data is not None:\n",
    "                module.bias.data.zero_()\n",
    "            else:\n",
    "                nn.init.kaiming_normal_(module.weight.data,mode='fan_in',nonlinearity='relu')\n",
    "    \n",
    "    def forward(self,x):\n",
    "\n",
    "        #encoding layers\n",
    "        x1=self.conv1(x)\n",
    "        x=self.bn1(x1)\n",
    "        x=self.r1(x)\n",
    "        x=self.dp1(x)\n",
    "\n",
    "        x2=self.conv2(x)\n",
    "        x=self.bn2(x2)\n",
    "        x=self.r2(x)\n",
    "        x=self.dp2(x)\n",
    "\n",
    "        x3=self.conv3(x)\n",
    "        x=self.bn3(x3)\n",
    "        x=self.r3(x)\n",
    "        x=self.dp3(x)\n",
    "\n",
    "        x4=self.conv4(x)\n",
    "        x=self.bn4(x4)\n",
    "        x=self.r4(x)\n",
    "        x=self.dp4(x)\n",
    "\n",
    "        x5=self.conv5(x)\n",
    "        x=self.bn5(x5)\n",
    "        x=self.r5(x)\n",
    "        x=self.dp5(x)\n",
    "\n",
    "        x6=self.conv6(x)\n",
    "        x=self.bn6(x6)\n",
    "        x=self.r6(x)\n",
    "        x=self.dp6(x)\n",
    "\n",
    "        x7=self.conv7(x)\n",
    "        x=self.bn7(x7)\n",
    "        x=self.r7(x)\n",
    "        x=self.dp7(x)\n",
    "\n",
    "        #decoding layers\n",
    "        x=self.dconv1(x)\n",
    "        xcat1=torch.add(x,x6)\n",
    "        x=self.bn8(xcat1)\n",
    "        x=self.r8(x)\n",
    "        x=self.dp8(x)\n",
    "\n",
    "        x=self.dconv2(x)\n",
    "        xcat2=torch.add(x,x5)\n",
    "        x=self.bn9(xcat2)\n",
    "        x=self.r9(x)\n",
    "        x=self.dp9(x)\n",
    "\n",
    "        x=self.dconv3(x)\n",
    "        xcat3=torch.add(x,x4)\n",
    "        x=self.bn10(xcat3)\n",
    "        x=self.r10(x)\n",
    "        x=self.dp10(x)\n",
    "\n",
    "        x=self.dconv4(x)\n",
    "        xcat4=torch.add(x,x3)\n",
    "        x=self.bn11(xcat4)\n",
    "        x=self.r11(x)\n",
    "        x=self.dp11(x)\n",
    "\n",
    "        x=self.dconv5(x)\n",
    "        xcat5=torch.add(x,x2)\n",
    "        x=self.bn12(xcat5)\n",
    "        x=self.r12(x)\n",
    "        x=self.dp12(x)\n",
    "\n",
    "        x=self.dconv6(x)\n",
    "        xcat6=torch.add(x,x1)\n",
    "        x=self.bn13(xcat6)\n",
    "        x=self.r13(x)\n",
    "        x=self.dp13(x)\n",
    "\n",
    "        x=self.dconv7(x)\n",
    "\n",
    "        return x"
   ]
  },
  {
   "cell_type": "code",
   "execution_count": 4,
   "metadata": {},
   "outputs": [],
   "source": [
    "class ImageDataset(Dataset):\n",
    "    def __init__(self, images_dir, transform=None):\n",
    "        self.images = sorted(os.listdir(images_dir))\n",
    "        self.images_dir = images_dir\n",
    "        self.transform = transform\n",
    "\n",
    "    def __len__(self):\n",
    "        return len(self.images)\n",
    "\n",
    "    def __getitem__(self, idx):\n",
    "        image = Image.open(os.path.join(self.images_dir, self.images[idx]))\n",
    "\n",
    "        # Split the image \n",
    "        width, height = image.size        \n",
    "        truth_image = image.crop((0, 0, width // 3, height))\n",
    "        glare_image = image.crop((width // 3, 0, (width//3)*2, height))\n",
    "\n",
    "        if self.transform:\n",
    "            truth_image = self.transform(truth_image)\n",
    "            glare_image = self.transform(glare_image)\n",
    "\n",
    "        return glare_image, truth_image"
   ]
  },
  {
   "cell_type": "code",
   "execution_count": 5,
   "metadata": {},
   "outputs": [],
   "source": [
    "transform = transforms.Compose([\n",
    "    # change to grayscale\n",
    "    transforms.Grayscale(),\n",
    "    transforms.Resize((512, 512)),\n",
    "    transforms.ToTensor()\n",
    "])"
   ]
  },
  {
   "cell_type": "code",
   "execution_count": 6,
   "metadata": {},
   "outputs": [],
   "source": [
    "train_path = '../SD1/train'\n",
    "dataset = ImageDataset(train_path, transform=transform)\n",
    "\n",
    "\n",
    "# Assuming dataset is already defined\n",
    "total_size = len(dataset)\n",
    "train_size = int(total_size * 0.8)  # 80% for training\n",
    "val_size = total_size - train_size  # Remaining 20% for validation\n",
    "\n",
    "# Perform the split\n",
    "train_dataset, val_dataset = random_split(dataset, [train_size, val_size])\n",
    "train_dataloader = DataLoader(train_dataset, batch_size=16, shuffle=True)\n",
    "val_dataloader = DataLoader(val_dataset, batch_size=16, shuffle=False)"
   ]
  },
  {
   "cell_type": "code",
   "execution_count": 7,
   "metadata": {},
   "outputs": [
    {
     "name": "stderr",
     "output_type": "stream",
     "text": [
      "Epoch [1/50] Training: 100%|██████████| 600/600 [05:07<00:00,  1.95it/s, loss=0.358]\n"
     ]
    },
    {
     "name": "stdout",
     "output_type": "stream",
     "text": [
      "Epoch [1/50], MSE Loss: 0.6235, L1 Loss: 0.6673029341300328\n"
     ]
    },
    {
     "name": "stderr",
     "output_type": "stream",
     "text": [
      "Epoch [1/50] Validation: 100%|██████████| 150/150 [01:14<00:00,  2.02it/s, loss=0.473]\n"
     ]
    },
    {
     "name": "stdout",
     "output_type": "stream",
     "text": [
      "L1 Validation Loss: 0.4724\n",
      "Saved Best Model with Validation Loss: 0.4724\n"
     ]
    },
    {
     "name": "stderr",
     "output_type": "stream",
     "text": [
      "Epoch [2/50] Training: 100%|██████████| 600/600 [05:01<00:00,  1.99it/s, loss=0.172]\n"
     ]
    },
    {
     "name": "stdout",
     "output_type": "stream",
     "text": [
      "Epoch [2/50], MSE Loss: 0.2739, L1 Loss: 0.439311949412028\n"
     ]
    },
    {
     "name": "stderr",
     "output_type": "stream",
     "text": [
      "Epoch [2/50] Validation: 100%|██████████| 150/150 [01:15<00:00,  1.99it/s, loss=0.301]\n"
     ]
    },
    {
     "name": "stdout",
     "output_type": "stream",
     "text": [
      "L1 Validation Loss: 0.3085\n",
      "Saved Best Model with Validation Loss: 0.3085\n"
     ]
    },
    {
     "name": "stderr",
     "output_type": "stream",
     "text": [
      "Epoch [3/50] Training: 100%|██████████| 600/600 [05:06<00:00,  1.96it/s, loss=0.187] \n"
     ]
    },
    {
     "name": "stdout",
     "output_type": "stream",
     "text": [
      "Epoch [3/50], MSE Loss: 0.1851, L1 Loss: 0.3546382087469101\n"
     ]
    },
    {
     "name": "stderr",
     "output_type": "stream",
     "text": [
      "Epoch [3/50] Validation: 100%|██████████| 150/150 [01:15<00:00,  2.00it/s, loss=0.235]\n"
     ]
    },
    {
     "name": "stdout",
     "output_type": "stream",
     "text": [
      "L1 Validation Loss: 0.2435\n",
      "Saved Best Model with Validation Loss: 0.2435\n"
     ]
    },
    {
     "name": "stderr",
     "output_type": "stream",
     "text": [
      "Epoch [4/50] Training: 100%|██████████| 600/600 [05:04<00:00,  1.97it/s, loss=0.115] \n"
     ]
    },
    {
     "name": "stdout",
     "output_type": "stream",
     "text": [
      "Epoch [4/50], MSE Loss: 0.1436, L1 Loss: 0.3094879923015833\n"
     ]
    },
    {
     "name": "stderr",
     "output_type": "stream",
     "text": [
      "Epoch [4/50] Validation: 100%|██████████| 150/150 [01:13<00:00,  2.05it/s, loss=0.203]\n"
     ]
    },
    {
     "name": "stdout",
     "output_type": "stream",
     "text": [
      "L1 Validation Loss: 0.2099\n",
      "Saved Best Model with Validation Loss: 0.2099\n"
     ]
    },
    {
     "name": "stderr",
     "output_type": "stream",
     "text": [
      "Epoch [5/50] Training: 100%|██████████| 600/600 [05:01<00:00,  1.99it/s, loss=0.0855]\n"
     ]
    },
    {
     "name": "stdout",
     "output_type": "stream",
     "text": [
      "Epoch [5/50], MSE Loss: 0.1179, L1 Loss: 0.2789904358486334\n"
     ]
    },
    {
     "name": "stderr",
     "output_type": "stream",
     "text": [
      "Epoch [5/50] Validation: 100%|██████████| 150/150 [01:14<00:00,  2.02it/s, loss=0.155]\n"
     ]
    },
    {
     "name": "stdout",
     "output_type": "stream",
     "text": [
      "L1 Validation Loss: 0.1642\n",
      "Saved Best Model with Validation Loss: 0.1642\n"
     ]
    },
    {
     "name": "stderr",
     "output_type": "stream",
     "text": [
      "Epoch [6/50] Training: 100%|██████████| 600/600 [05:01<00:00,  1.99it/s, loss=0.0709]\n"
     ]
    },
    {
     "name": "stdout",
     "output_type": "stream",
     "text": [
      "Epoch [6/50], MSE Loss: 0.1008, L1 Loss: 0.256375434845686\n"
     ]
    },
    {
     "name": "stderr",
     "output_type": "stream",
     "text": [
      "Epoch [6/50] Validation: 100%|██████████| 150/150 [01:14<00:00,  2.01it/s, loss=0.146]\n"
     ]
    },
    {
     "name": "stdout",
     "output_type": "stream",
     "text": [
      "L1 Validation Loss: 0.1566\n",
      "Saved Best Model with Validation Loss: 0.1566\n"
     ]
    },
    {
     "name": "stderr",
     "output_type": "stream",
     "text": [
      "Epoch [7/50] Training: 100%|██████████| 600/600 [05:02<00:00,  1.98it/s, loss=0.11]  \n"
     ]
    },
    {
     "name": "stdout",
     "output_type": "stream",
     "text": [
      "Epoch [7/50], MSE Loss: 0.0872, L1 Loss: 0.23837481694916884\n"
     ]
    },
    {
     "name": "stderr",
     "output_type": "stream",
     "text": [
      "Epoch [7/50] Validation: 100%|██████████| 150/150 [01:14<00:00,  2.02it/s, loss=0.129]\n"
     ]
    },
    {
     "name": "stdout",
     "output_type": "stream",
     "text": [
      "L1 Validation Loss: 0.1403\n",
      "Saved Best Model with Validation Loss: 0.1403\n"
     ]
    },
    {
     "name": "stderr",
     "output_type": "stream",
     "text": [
      "Epoch [8/50] Training: 100%|██████████| 600/600 [05:04<00:00,  1.97it/s, loss=0.082] \n"
     ]
    },
    {
     "name": "stdout",
     "output_type": "stream",
     "text": [
      "Epoch [8/50], MSE Loss: 0.0758, L1 Loss: 0.2207383445650339\n"
     ]
    },
    {
     "name": "stderr",
     "output_type": "stream",
     "text": [
      "Epoch [8/50] Validation: 100%|██████████| 150/150 [01:14<00:00,  2.01it/s, loss=0.121]\n"
     ]
    },
    {
     "name": "stdout",
     "output_type": "stream",
     "text": [
      "L1 Validation Loss: 0.1327\n",
      "Saved Best Model with Validation Loss: 0.1327\n"
     ]
    },
    {
     "name": "stderr",
     "output_type": "stream",
     "text": [
      "Epoch [9/50] Training: 100%|██████████| 600/600 [05:02<00:00,  1.98it/s, loss=0.0675]\n"
     ]
    },
    {
     "name": "stdout",
     "output_type": "stream",
     "text": [
      "Epoch [9/50], MSE Loss: 0.0668, L1 Loss: 0.20652471301456293\n"
     ]
    },
    {
     "name": "stderr",
     "output_type": "stream",
     "text": [
      "Epoch [9/50] Validation: 100%|██████████| 150/150 [01:14<00:00,  2.01it/s, loss=0.117]\n"
     ]
    },
    {
     "name": "stdout",
     "output_type": "stream",
     "text": [
      "L1 Validation Loss: 0.1291\n",
      "Saved Best Model with Validation Loss: 0.1291\n"
     ]
    },
    {
     "name": "stderr",
     "output_type": "stream",
     "text": [
      "Epoch [10/50] Training: 100%|██████████| 600/600 [05:01<00:00,  1.99it/s, loss=0.0443]\n"
     ]
    },
    {
     "name": "stdout",
     "output_type": "stream",
     "text": [
      "Epoch [10/50], MSE Loss: 0.0586, L1 Loss: 0.19242633995910485\n"
     ]
    },
    {
     "name": "stderr",
     "output_type": "stream",
     "text": [
      "Epoch [10/50] Validation: 100%|██████████| 150/150 [01:14<00:00,  2.01it/s, loss=0.108] \n"
     ]
    },
    {
     "name": "stdout",
     "output_type": "stream",
     "text": [
      "L1 Validation Loss: 0.1213\n",
      "Saved Best Model with Validation Loss: 0.1213\n"
     ]
    },
    {
     "name": "stderr",
     "output_type": "stream",
     "text": [
      "Epoch [11/50] Training: 100%|██████████| 600/600 [05:01<00:00,  1.99it/s, loss=0.0357]\n"
     ]
    },
    {
     "name": "stdout",
     "output_type": "stream",
     "text": [
      "Epoch [11/50], MSE Loss: 0.0512, L1 Loss: 0.17903431540975967\n"
     ]
    },
    {
     "name": "stderr",
     "output_type": "stream",
     "text": [
      "Epoch [11/50] Validation: 100%|██████████| 150/150 [01:15<00:00,  1.99it/s, loss=0.1]   \n"
     ]
    },
    {
     "name": "stdout",
     "output_type": "stream",
     "text": [
      "L1 Validation Loss: 0.1153\n",
      "Saved Best Model with Validation Loss: 0.1153\n"
     ]
    },
    {
     "name": "stderr",
     "output_type": "stream",
     "text": [
      "Epoch [12/50] Training: 100%|██████████| 600/600 [05:04<00:00,  1.97it/s, loss=0.0444]\n"
     ]
    },
    {
     "name": "stdout",
     "output_type": "stream",
     "text": [
      "Epoch [12/50], MSE Loss: 0.0461, L1 Loss: 0.16981510100265343\n"
     ]
    },
    {
     "name": "stderr",
     "output_type": "stream",
     "text": [
      "Epoch [12/50] Validation: 100%|██████████| 150/150 [01:14<00:00,  2.02it/s, loss=0.102] \n"
     ]
    },
    {
     "name": "stdout",
     "output_type": "stream",
     "text": [
      "L1 Validation Loss: 0.1173\n"
     ]
    },
    {
     "name": "stderr",
     "output_type": "stream",
     "text": [
      "Epoch [13/50] Training: 100%|██████████| 600/600 [05:01<00:00,  1.99it/s, loss=0.0375]\n"
     ]
    },
    {
     "name": "stdout",
     "output_type": "stream",
     "text": [
      "Epoch [13/50], MSE Loss: 0.0421, L1 Loss: 0.16135470288495224\n"
     ]
    },
    {
     "name": "stderr",
     "output_type": "stream",
     "text": [
      "Epoch [13/50] Validation: 100%|██████████| 150/150 [01:14<00:00,  2.01it/s, loss=0.0933]\n"
     ]
    },
    {
     "name": "stdout",
     "output_type": "stream",
     "text": [
      "L1 Validation Loss: 0.1105\n",
      "Saved Best Model with Validation Loss: 0.1105\n"
     ]
    },
    {
     "name": "stderr",
     "output_type": "stream",
     "text": [
      "Epoch [14/50] Training: 100%|██████████| 600/600 [05:02<00:00,  1.99it/s, loss=0.0438]\n"
     ]
    },
    {
     "name": "stdout",
     "output_type": "stream",
     "text": [
      "Epoch [14/50], MSE Loss: 0.0380, L1 Loss: 0.1537932186573744\n"
     ]
    },
    {
     "name": "stderr",
     "output_type": "stream",
     "text": [
      "Epoch [14/50] Validation: 100%|██████████| 150/150 [01:15<00:00,  1.99it/s, loss=0.0942]\n"
     ]
    },
    {
     "name": "stdout",
     "output_type": "stream",
     "text": [
      "L1 Validation Loss: 0.1116\n"
     ]
    },
    {
     "name": "stderr",
     "output_type": "stream",
     "text": [
      "Epoch [15/50] Training: 100%|██████████| 600/600 [04:44<00:00,  2.11it/s, loss=0.027] \n"
     ]
    },
    {
     "name": "stdout",
     "output_type": "stream",
     "text": [
      "Epoch [15/50], MSE Loss: 0.0347, L1 Loss: 0.1468698432420691\n"
     ]
    },
    {
     "name": "stderr",
     "output_type": "stream",
     "text": [
      "Epoch [15/50] Validation: 100%|██████████| 150/150 [01:10<00:00,  2.13it/s, loss=0.091] \n"
     ]
    },
    {
     "name": "stdout",
     "output_type": "stream",
     "text": [
      "L1 Validation Loss: 0.1093\n",
      "Saved Best Model with Validation Loss: 0.1093\n"
     ]
    },
    {
     "name": "stderr",
     "output_type": "stream",
     "text": [
      "Epoch [16/50] Training: 100%|██████████| 600/600 [04:43<00:00,  2.12it/s, loss=0.0377]\n"
     ]
    },
    {
     "name": "stdout",
     "output_type": "stream",
     "text": [
      "Epoch [16/50], MSE Loss: 0.0320, L1 Loss: 0.14128466977427404\n"
     ]
    },
    {
     "name": "stderr",
     "output_type": "stream",
     "text": [
      "Epoch [16/50] Validation: 100%|██████████| 150/150 [01:10<00:00,  2.12it/s, loss=0.0912]\n"
     ]
    },
    {
     "name": "stdout",
     "output_type": "stream",
     "text": [
      "L1 Validation Loss: 0.1095\n"
     ]
    },
    {
     "name": "stderr",
     "output_type": "stream",
     "text": [
      "Epoch [17/50] Training: 100%|██████████| 600/600 [04:49<00:00,  2.07it/s, loss=0.0191]\n"
     ]
    },
    {
     "name": "stdout",
     "output_type": "stream",
     "text": [
      "Epoch [17/50], MSE Loss: 0.0299, L1 Loss: 0.13601593180249136\n"
     ]
    },
    {
     "name": "stderr",
     "output_type": "stream",
     "text": [
      "Epoch [17/50] Validation: 100%|██████████| 150/150 [01:10<00:00,  2.12it/s, loss=0.0871]\n"
     ]
    },
    {
     "name": "stdout",
     "output_type": "stream",
     "text": [
      "L1 Validation Loss: 0.1058\n",
      "Saved Best Model with Validation Loss: 0.1058\n"
     ]
    },
    {
     "name": "stderr",
     "output_type": "stream",
     "text": [
      "Epoch [18/50] Training: 100%|██████████| 600/600 [04:47<00:00,  2.09it/s, loss=0.0255]\n"
     ]
    },
    {
     "name": "stdout",
     "output_type": "stream",
     "text": [
      "Epoch [18/50], MSE Loss: 0.0279, L1 Loss: 0.13172426275908947\n"
     ]
    },
    {
     "name": "stderr",
     "output_type": "stream",
     "text": [
      "Epoch [18/50] Validation: 100%|██████████| 150/150 [01:10<00:00,  2.13it/s, loss=0.0845]\n"
     ]
    },
    {
     "name": "stdout",
     "output_type": "stream",
     "text": [
      "L1 Validation Loss: 0.1033\n",
      "Saved Best Model with Validation Loss: 0.1033\n"
     ]
    },
    {
     "name": "stderr",
     "output_type": "stream",
     "text": [
      "Epoch [19/50] Training: 100%|██████████| 600/600 [04:44<00:00,  2.11it/s, loss=0.0321]\n"
     ]
    },
    {
     "name": "stdout",
     "output_type": "stream",
     "text": [
      "Epoch [19/50], MSE Loss: 0.0265, L1 Loss: 0.1284886354332169\n"
     ]
    },
    {
     "name": "stderr",
     "output_type": "stream",
     "text": [
      "Epoch [19/50] Validation: 100%|██████████| 150/150 [01:10<00:00,  2.13it/s, loss=0.0851]\n"
     ]
    },
    {
     "name": "stdout",
     "output_type": "stream",
     "text": [
      "L1 Validation Loss: 0.1038\n"
     ]
    },
    {
     "name": "stderr",
     "output_type": "stream",
     "text": [
      "Epoch [20/50] Training: 100%|██████████| 600/600 [04:38<00:00,  2.15it/s, loss=0.0336]\n"
     ]
    },
    {
     "name": "stdout",
     "output_type": "stream",
     "text": [
      "Epoch [20/50], MSE Loss: 0.0248, L1 Loss: 0.12460525931169589\n"
     ]
    },
    {
     "name": "stderr",
     "output_type": "stream",
     "text": [
      "Epoch [20/50] Validation: 100%|██████████| 150/150 [01:09<00:00,  2.15it/s, loss=0.0865]\n"
     ]
    },
    {
     "name": "stdout",
     "output_type": "stream",
     "text": [
      "L1 Validation Loss: 0.1051\n"
     ]
    },
    {
     "name": "stderr",
     "output_type": "stream",
     "text": [
      "Epoch [21/50] Training: 100%|██████████| 600/600 [04:38<00:00,  2.15it/s, loss=0.0376]\n"
     ]
    },
    {
     "name": "stdout",
     "output_type": "stream",
     "text": [
      "Epoch [21/50], MSE Loss: 0.0241, L1 Loss: 0.12279095503191154\n"
     ]
    },
    {
     "name": "stderr",
     "output_type": "stream",
     "text": [
      "Epoch [21/50] Validation: 100%|██████████| 150/150 [01:09<00:00,  2.15it/s, loss=0.0827]\n"
     ]
    },
    {
     "name": "stdout",
     "output_type": "stream",
     "text": [
      "L1 Validation Loss: 0.1010\n",
      "Saved Best Model with Validation Loss: 0.1010\n"
     ]
    },
    {
     "name": "stderr",
     "output_type": "stream",
     "text": [
      "Epoch [22/50] Training: 100%|██████████| 600/600 [04:32<00:00,  2.20it/s, loss=0.0195]\n"
     ]
    },
    {
     "name": "stdout",
     "output_type": "stream",
     "text": [
      "Epoch [22/50], MSE Loss: 0.0232, L1 Loss: 0.12053511096785466\n"
     ]
    },
    {
     "name": "stderr",
     "output_type": "stream",
     "text": [
      "Epoch [22/50] Validation: 100%|██████████| 150/150 [01:10<00:00,  2.13it/s, loss=0.0815]\n"
     ]
    },
    {
     "name": "stdout",
     "output_type": "stream",
     "text": [
      "L1 Validation Loss: 0.1000\n",
      "Saved Best Model with Validation Loss: 0.1000\n"
     ]
    },
    {
     "name": "stderr",
     "output_type": "stream",
     "text": [
      "Epoch [23/50] Training: 100%|██████████| 600/600 [04:32<00:00,  2.20it/s, loss=0.0221]\n"
     ]
    },
    {
     "name": "stdout",
     "output_type": "stream",
     "text": [
      "Epoch [23/50], MSE Loss: 0.0221, L1 Loss: 0.1175852886835734\n"
     ]
    },
    {
     "name": "stderr",
     "output_type": "stream",
     "text": [
      "Epoch [23/50] Validation: 100%|██████████| 150/150 [01:10<00:00,  2.12it/s, loss=0.0819]\n"
     ]
    },
    {
     "name": "stdout",
     "output_type": "stream",
     "text": [
      "L1 Validation Loss: 0.0998\n",
      "Saved Best Model with Validation Loss: 0.0998\n"
     ]
    },
    {
     "name": "stderr",
     "output_type": "stream",
     "text": [
      "Epoch [24/50] Training: 100%|██████████| 600/600 [04:38<00:00,  2.15it/s, loss=0.0282]\n"
     ]
    },
    {
     "name": "stdout",
     "output_type": "stream",
     "text": [
      "Epoch [24/50], MSE Loss: 0.0220, L1 Loss: 0.11723936758935452\n"
     ]
    },
    {
     "name": "stderr",
     "output_type": "stream",
     "text": [
      "Epoch [24/50] Validation: 100%|██████████| 150/150 [01:10<00:00,  2.13it/s, loss=0.0793]\n"
     ]
    },
    {
     "name": "stdout",
     "output_type": "stream",
     "text": [
      "L1 Validation Loss: 0.0973\n",
      "Saved Best Model with Validation Loss: 0.0973\n"
     ]
    },
    {
     "name": "stderr",
     "output_type": "stream",
     "text": [
      "Epoch [25/50] Training: 100%|██████████| 600/600 [04:35<00:00,  2.18it/s, loss=0.0199]\n"
     ]
    },
    {
     "name": "stdout",
     "output_type": "stream",
     "text": [
      "Epoch [25/50], MSE Loss: 0.0216, L1 Loss: 0.11617927312850952\n"
     ]
    },
    {
     "name": "stderr",
     "output_type": "stream",
     "text": [
      "Epoch [25/50] Validation: 100%|██████████| 150/150 [01:10<00:00,  2.12it/s, loss=0.0773]\n"
     ]
    },
    {
     "name": "stdout",
     "output_type": "stream",
     "text": [
      "L1 Validation Loss: 0.0947\n",
      "Saved Best Model with Validation Loss: 0.0947\n"
     ]
    },
    {
     "name": "stderr",
     "output_type": "stream",
     "text": [
      "Epoch [26/50] Training: 100%|██████████| 600/600 [04:33<00:00,  2.20it/s, loss=0.0259]\n"
     ]
    },
    {
     "name": "stdout",
     "output_type": "stream",
     "text": [
      "Epoch [26/50], MSE Loss: 0.0214, L1 Loss: 0.11560064597676198\n"
     ]
    },
    {
     "name": "stderr",
     "output_type": "stream",
     "text": [
      "Epoch [26/50] Validation: 100%|██████████| 150/150 [01:10<00:00,  2.14it/s, loss=0.0807]\n"
     ]
    },
    {
     "name": "stdout",
     "output_type": "stream",
     "text": [
      "L1 Validation Loss: 0.0977\n"
     ]
    },
    {
     "name": "stderr",
     "output_type": "stream",
     "text": [
      "Epoch [27/50] Training: 100%|██████████| 600/600 [04:40<00:00,  2.14it/s, loss=0.0251]\n"
     ]
    },
    {
     "name": "stdout",
     "output_type": "stream",
     "text": [
      "Epoch [27/50], MSE Loss: 0.0208, L1 Loss: 0.11389697874585787\n"
     ]
    },
    {
     "name": "stderr",
     "output_type": "stream",
     "text": [
      "Epoch [27/50] Validation: 100%|██████████| 150/150 [01:10<00:00,  2.13it/s, loss=0.0825]\n"
     ]
    },
    {
     "name": "stdout",
     "output_type": "stream",
     "text": [
      "L1 Validation Loss: 0.0985\n"
     ]
    },
    {
     "name": "stderr",
     "output_type": "stream",
     "text": [
      "Epoch [28/50] Training: 100%|██████████| 600/600 [04:39<00:00,  2.15it/s, loss=0.0202] \n"
     ]
    },
    {
     "name": "stdout",
     "output_type": "stream",
     "text": [
      "Epoch [28/50], MSE Loss: 0.0208, L1 Loss: 0.11393244401862224\n"
     ]
    },
    {
     "name": "stderr",
     "output_type": "stream",
     "text": [
      "Epoch [28/50] Validation: 100%|██████████| 150/150 [01:10<00:00,  2.12it/s, loss=0.0813]\n"
     ]
    },
    {
     "name": "stdout",
     "output_type": "stream",
     "text": [
      "L1 Validation Loss: 0.0966\n"
     ]
    },
    {
     "name": "stderr",
     "output_type": "stream",
     "text": [
      "Epoch [29/50] Training: 100%|██████████| 600/600 [04:41<00:00,  2.13it/s, loss=0.0149]\n"
     ]
    },
    {
     "name": "stdout",
     "output_type": "stream",
     "text": [
      "Epoch [29/50], MSE Loss: 0.0204, L1 Loss: 0.11269552648067474\n"
     ]
    },
    {
     "name": "stderr",
     "output_type": "stream",
     "text": [
      "Epoch [29/50] Validation: 100%|██████████| 150/150 [01:10<00:00,  2.12it/s, loss=0.0834]\n"
     ]
    },
    {
     "name": "stdout",
     "output_type": "stream",
     "text": [
      "L1 Validation Loss: 0.0978\n"
     ]
    },
    {
     "name": "stderr",
     "output_type": "stream",
     "text": [
      "Epoch [30/50] Training: 100%|██████████| 600/600 [04:41<00:00,  2.13it/s, loss=0.0187]\n"
     ]
    },
    {
     "name": "stdout",
     "output_type": "stream",
     "text": [
      "Epoch [30/50], MSE Loss: 0.0205, L1 Loss: 0.11293753835062185\n"
     ]
    },
    {
     "name": "stderr",
     "output_type": "stream",
     "text": [
      "Epoch [30/50] Validation: 100%|██████████| 150/150 [01:10<00:00,  2.12it/s, loss=0.0811]\n"
     ]
    },
    {
     "name": "stdout",
     "output_type": "stream",
     "text": [
      "L1 Validation Loss: 0.0956\n"
     ]
    },
    {
     "name": "stderr",
     "output_type": "stream",
     "text": [
      "Epoch [31/50] Training: 100%|██████████| 600/600 [04:41<00:00,  2.13it/s, loss=0.0185]\n"
     ]
    },
    {
     "name": "stdout",
     "output_type": "stream",
     "text": [
      "Epoch [31/50], MSE Loss: 0.0204, L1 Loss: 0.11282076944907506\n"
     ]
    },
    {
     "name": "stderr",
     "output_type": "stream",
     "text": [
      "Epoch [31/50] Validation: 100%|██████████| 150/150 [01:10<00:00,  2.12it/s, loss=0.0825]\n"
     ]
    },
    {
     "name": "stdout",
     "output_type": "stream",
     "text": [
      "L1 Validation Loss: 0.0944\n",
      "Saved Best Model with Validation Loss: 0.0944\n"
     ]
    },
    {
     "name": "stderr",
     "output_type": "stream",
     "text": [
      "Epoch [32/50] Training:  11%|█         | 67/600 [00:31<04:12,  2.11it/s, loss=0.0209]\n"
     ]
    },
    {
     "ename": "KeyboardInterrupt",
     "evalue": "",
     "output_type": "error",
     "traceback": [
      "\u001b[1;31m---------------------------------------------------------------------------\u001b[0m",
      "\u001b[1;31mKeyboardInterrupt\u001b[0m                         Traceback (most recent call last)",
      "Cell \u001b[1;32mIn[7], line 25\u001b[0m\n\u001b[0;32m     23\u001b[0m \u001b[38;5;66;03m# Training phase with progress bar\u001b[39;00m\n\u001b[0;32m     24\u001b[0m train_pbar \u001b[38;5;241m=\u001b[39m tqdm(train_dataloader, desc\u001b[38;5;241m=\u001b[39m\u001b[38;5;124mf\u001b[39m\u001b[38;5;124m\"\u001b[39m\u001b[38;5;124mEpoch [\u001b[39m\u001b[38;5;132;01m{\u001b[39;00mepoch\u001b[38;5;241m+\u001b[39m\u001b[38;5;241m1\u001b[39m\u001b[38;5;132;01m}\u001b[39;00m\u001b[38;5;124m/\u001b[39m\u001b[38;5;132;01m{\u001b[39;00mnum_epochs\u001b[38;5;132;01m}\u001b[39;00m\u001b[38;5;124m] Training\u001b[39m\u001b[38;5;124m\"\u001b[39m)\n\u001b[1;32m---> 25\u001b[0m \u001b[43m\u001b[49m\u001b[38;5;28;43;01mfor\u001b[39;49;00m\u001b[43m \u001b[49m\u001b[43mglare_images\u001b[49m\u001b[43m,\u001b[49m\u001b[43m \u001b[49m\u001b[43mtruth_images\u001b[49m\u001b[43m \u001b[49m\u001b[38;5;129;43;01min\u001b[39;49;00m\u001b[43m \u001b[49m\u001b[43mtrain_pbar\u001b[49m\u001b[43m:\u001b[49m\n\u001b[0;32m     26\u001b[0m \u001b[43m    \u001b[49m\u001b[43mglare_images\u001b[49m\u001b[43m,\u001b[49m\u001b[43m \u001b[49m\u001b[43mtruth_images\u001b[49m\u001b[43m \u001b[49m\u001b[38;5;241;43m=\u001b[39;49m\u001b[43m \u001b[49m\u001b[43mglare_images\u001b[49m\u001b[38;5;241;43m.\u001b[39;49m\u001b[43mto\u001b[49m\u001b[43m(\u001b[49m\u001b[43mdevice\u001b[49m\u001b[43m)\u001b[49m\u001b[43m,\u001b[49m\u001b[43m \u001b[49m\u001b[43mtruth_images\u001b[49m\u001b[38;5;241;43m.\u001b[39;49m\u001b[43mto\u001b[49m\u001b[43m(\u001b[49m\u001b[43mdevice\u001b[49m\u001b[43m)\u001b[49m\n\u001b[0;32m     28\u001b[0m \u001b[43m    \u001b[49m\u001b[38;5;66;43;03m# Zero the parameter gradients\u001b[39;49;00m\n",
      "File \u001b[1;32mc:\\Users\\JoeTe\\AppData\\Local\\Programs\\Python\\Python312\\Lib\\site-packages\\tqdm\\std.py:1181\u001b[0m, in \u001b[0;36mtqdm.__iter__\u001b[1;34m(self)\u001b[0m\n\u001b[0;32m   1178\u001b[0m time \u001b[38;5;241m=\u001b[39m \u001b[38;5;28mself\u001b[39m\u001b[38;5;241m.\u001b[39m_time\n\u001b[0;32m   1180\u001b[0m \u001b[38;5;28;01mtry\u001b[39;00m:\n\u001b[1;32m-> 1181\u001b[0m \u001b[43m    \u001b[49m\u001b[38;5;28;43;01mfor\u001b[39;49;00m\u001b[43m \u001b[49m\u001b[43mobj\u001b[49m\u001b[43m \u001b[49m\u001b[38;5;129;43;01min\u001b[39;49;00m\u001b[43m \u001b[49m\u001b[43miterable\u001b[49m\u001b[43m:\u001b[49m\n\u001b[0;32m   1182\u001b[0m \u001b[43m        \u001b[49m\u001b[38;5;28;43;01myield\u001b[39;49;00m\u001b[43m \u001b[49m\u001b[43mobj\u001b[49m\n\u001b[0;32m   1183\u001b[0m \u001b[43m        \u001b[49m\u001b[38;5;66;43;03m# Update and possibly print the progressbar.\u001b[39;49;00m\n\u001b[0;32m   1184\u001b[0m \u001b[43m        \u001b[49m\u001b[38;5;66;43;03m# Note: does not call self.update(1) for speed optimisation.\u001b[39;49;00m\n",
      "File \u001b[1;32mc:\\Users\\JoeTe\\AppData\\Local\\Programs\\Python\\Python312\\Lib\\site-packages\\torch\\utils\\data\\dataloader.py:631\u001b[0m, in \u001b[0;36m_BaseDataLoaderIter.__next__\u001b[1;34m(self)\u001b[0m\n\u001b[0;32m    628\u001b[0m \u001b[38;5;28;01mif\u001b[39;00m \u001b[38;5;28mself\u001b[39m\u001b[38;5;241m.\u001b[39m_sampler_iter \u001b[38;5;129;01mis\u001b[39;00m \u001b[38;5;28;01mNone\u001b[39;00m:\n\u001b[0;32m    629\u001b[0m     \u001b[38;5;66;03m# TODO(https://github.com/pytorch/pytorch/issues/76750)\u001b[39;00m\n\u001b[0;32m    630\u001b[0m     \u001b[38;5;28mself\u001b[39m\u001b[38;5;241m.\u001b[39m_reset()  \u001b[38;5;66;03m# type: ignore[call-arg]\u001b[39;00m\n\u001b[1;32m--> 631\u001b[0m data \u001b[38;5;241m=\u001b[39m \u001b[38;5;28;43mself\u001b[39;49m\u001b[38;5;241;43m.\u001b[39;49m\u001b[43m_next_data\u001b[49m\u001b[43m(\u001b[49m\u001b[43m)\u001b[49m\n\u001b[0;32m    632\u001b[0m \u001b[38;5;28mself\u001b[39m\u001b[38;5;241m.\u001b[39m_num_yielded \u001b[38;5;241m+\u001b[39m\u001b[38;5;241m=\u001b[39m \u001b[38;5;241m1\u001b[39m\n\u001b[0;32m    633\u001b[0m \u001b[38;5;28;01mif\u001b[39;00m \u001b[38;5;28mself\u001b[39m\u001b[38;5;241m.\u001b[39m_dataset_kind \u001b[38;5;241m==\u001b[39m _DatasetKind\u001b[38;5;241m.\u001b[39mIterable \u001b[38;5;129;01mand\u001b[39;00m \\\n\u001b[0;32m    634\u001b[0m         \u001b[38;5;28mself\u001b[39m\u001b[38;5;241m.\u001b[39m_IterableDataset_len_called \u001b[38;5;129;01mis\u001b[39;00m \u001b[38;5;129;01mnot\u001b[39;00m \u001b[38;5;28;01mNone\u001b[39;00m \u001b[38;5;129;01mand\u001b[39;00m \\\n\u001b[0;32m    635\u001b[0m         \u001b[38;5;28mself\u001b[39m\u001b[38;5;241m.\u001b[39m_num_yielded \u001b[38;5;241m>\u001b[39m \u001b[38;5;28mself\u001b[39m\u001b[38;5;241m.\u001b[39m_IterableDataset_len_called:\n",
      "File \u001b[1;32mc:\\Users\\JoeTe\\AppData\\Local\\Programs\\Python\\Python312\\Lib\\site-packages\\torch\\utils\\data\\dataloader.py:675\u001b[0m, in \u001b[0;36m_SingleProcessDataLoaderIter._next_data\u001b[1;34m(self)\u001b[0m\n\u001b[0;32m    673\u001b[0m \u001b[38;5;28;01mdef\u001b[39;00m \u001b[38;5;21m_next_data\u001b[39m(\u001b[38;5;28mself\u001b[39m):\n\u001b[0;32m    674\u001b[0m     index \u001b[38;5;241m=\u001b[39m \u001b[38;5;28mself\u001b[39m\u001b[38;5;241m.\u001b[39m_next_index()  \u001b[38;5;66;03m# may raise StopIteration\u001b[39;00m\n\u001b[1;32m--> 675\u001b[0m     data \u001b[38;5;241m=\u001b[39m \u001b[38;5;28;43mself\u001b[39;49m\u001b[38;5;241;43m.\u001b[39;49m\u001b[43m_dataset_fetcher\u001b[49m\u001b[38;5;241;43m.\u001b[39;49m\u001b[43mfetch\u001b[49m\u001b[43m(\u001b[49m\u001b[43mindex\u001b[49m\u001b[43m)\u001b[49m  \u001b[38;5;66;03m# may raise StopIteration\u001b[39;00m\n\u001b[0;32m    676\u001b[0m     \u001b[38;5;28;01mif\u001b[39;00m \u001b[38;5;28mself\u001b[39m\u001b[38;5;241m.\u001b[39m_pin_memory:\n\u001b[0;32m    677\u001b[0m         data \u001b[38;5;241m=\u001b[39m _utils\u001b[38;5;241m.\u001b[39mpin_memory\u001b[38;5;241m.\u001b[39mpin_memory(data, \u001b[38;5;28mself\u001b[39m\u001b[38;5;241m.\u001b[39m_pin_memory_device)\n",
      "File \u001b[1;32mc:\\Users\\JoeTe\\AppData\\Local\\Programs\\Python\\Python312\\Lib\\site-packages\\torch\\utils\\data\\_utils\\fetch.py:49\u001b[0m, in \u001b[0;36m_MapDatasetFetcher.fetch\u001b[1;34m(self, possibly_batched_index)\u001b[0m\n\u001b[0;32m     47\u001b[0m \u001b[38;5;28;01mif\u001b[39;00m \u001b[38;5;28mself\u001b[39m\u001b[38;5;241m.\u001b[39mauto_collation:\n\u001b[0;32m     48\u001b[0m     \u001b[38;5;28;01mif\u001b[39;00m \u001b[38;5;28mhasattr\u001b[39m(\u001b[38;5;28mself\u001b[39m\u001b[38;5;241m.\u001b[39mdataset, \u001b[38;5;124m\"\u001b[39m\u001b[38;5;124m__getitems__\u001b[39m\u001b[38;5;124m\"\u001b[39m) \u001b[38;5;129;01mand\u001b[39;00m \u001b[38;5;28mself\u001b[39m\u001b[38;5;241m.\u001b[39mdataset\u001b[38;5;241m.\u001b[39m__getitems__:\n\u001b[1;32m---> 49\u001b[0m         data \u001b[38;5;241m=\u001b[39m \u001b[38;5;28;43mself\u001b[39;49m\u001b[38;5;241;43m.\u001b[39;49m\u001b[43mdataset\u001b[49m\u001b[38;5;241;43m.\u001b[39;49m\u001b[43m__getitems__\u001b[49m\u001b[43m(\u001b[49m\u001b[43mpossibly_batched_index\u001b[49m\u001b[43m)\u001b[49m\n\u001b[0;32m     50\u001b[0m     \u001b[38;5;28;01melse\u001b[39;00m:\n\u001b[0;32m     51\u001b[0m         data \u001b[38;5;241m=\u001b[39m [\u001b[38;5;28mself\u001b[39m\u001b[38;5;241m.\u001b[39mdataset[idx] \u001b[38;5;28;01mfor\u001b[39;00m idx \u001b[38;5;129;01min\u001b[39;00m possibly_batched_index]\n",
      "File \u001b[1;32mc:\\Users\\JoeTe\\AppData\\Local\\Programs\\Python\\Python312\\Lib\\site-packages\\torch\\utils\\data\\dataset.py:419\u001b[0m, in \u001b[0;36mSubset.__getitems__\u001b[1;34m(self, indices)\u001b[0m\n\u001b[0;32m    417\u001b[0m     \u001b[38;5;28;01mreturn\u001b[39;00m \u001b[38;5;28mself\u001b[39m\u001b[38;5;241m.\u001b[39mdataset\u001b[38;5;241m.\u001b[39m__getitems__([\u001b[38;5;28mself\u001b[39m\u001b[38;5;241m.\u001b[39mindices[idx] \u001b[38;5;28;01mfor\u001b[39;00m idx \u001b[38;5;129;01min\u001b[39;00m indices])  \u001b[38;5;66;03m# type: ignore[attr-defined]\u001b[39;00m\n\u001b[0;32m    418\u001b[0m \u001b[38;5;28;01melse\u001b[39;00m:\n\u001b[1;32m--> 419\u001b[0m     \u001b[38;5;28;01mreturn\u001b[39;00m [\u001b[38;5;28;43mself\u001b[39;49m\u001b[38;5;241;43m.\u001b[39;49m\u001b[43mdataset\u001b[49m\u001b[43m[\u001b[49m\u001b[38;5;28;43mself\u001b[39;49m\u001b[38;5;241;43m.\u001b[39;49m\u001b[43mindices\u001b[49m\u001b[43m[\u001b[49m\u001b[43midx\u001b[49m\u001b[43m]\u001b[49m\u001b[43m]\u001b[49m \u001b[38;5;28;01mfor\u001b[39;00m idx \u001b[38;5;129;01min\u001b[39;00m indices]\n",
      "Cell \u001b[1;32mIn[4], line 15\u001b[0m, in \u001b[0;36mImageDataset.__getitem__\u001b[1;34m(self, idx)\u001b[0m\n\u001b[0;32m     13\u001b[0m \u001b[38;5;66;03m# Split the image \u001b[39;00m\n\u001b[0;32m     14\u001b[0m width, height \u001b[38;5;241m=\u001b[39m image\u001b[38;5;241m.\u001b[39msize        \n\u001b[1;32m---> 15\u001b[0m truth_image \u001b[38;5;241m=\u001b[39m \u001b[43mimage\u001b[49m\u001b[38;5;241;43m.\u001b[39;49m\u001b[43mcrop\u001b[49m\u001b[43m(\u001b[49m\u001b[43m(\u001b[49m\u001b[38;5;241;43m0\u001b[39;49m\u001b[43m,\u001b[49m\u001b[43m \u001b[49m\u001b[38;5;241;43m0\u001b[39;49m\u001b[43m,\u001b[49m\u001b[43m \u001b[49m\u001b[43mwidth\u001b[49m\u001b[43m \u001b[49m\u001b[38;5;241;43m/\u001b[39;49m\u001b[38;5;241;43m/\u001b[39;49m\u001b[43m \u001b[49m\u001b[38;5;241;43m3\u001b[39;49m\u001b[43m,\u001b[49m\u001b[43m \u001b[49m\u001b[43mheight\u001b[49m\u001b[43m)\u001b[49m\u001b[43m)\u001b[49m\n\u001b[0;32m     16\u001b[0m glare_image \u001b[38;5;241m=\u001b[39m image\u001b[38;5;241m.\u001b[39mcrop((width \u001b[38;5;241m/\u001b[39m\u001b[38;5;241m/\u001b[39m \u001b[38;5;241m3\u001b[39m, \u001b[38;5;241m0\u001b[39m, (width\u001b[38;5;241m/\u001b[39m\u001b[38;5;241m/\u001b[39m\u001b[38;5;241m3\u001b[39m)\u001b[38;5;241m*\u001b[39m\u001b[38;5;241m2\u001b[39m, height))\n\u001b[0;32m     18\u001b[0m \u001b[38;5;28;01mif\u001b[39;00m \u001b[38;5;28mself\u001b[39m\u001b[38;5;241m.\u001b[39mtransform:\n",
      "File \u001b[1;32mc:\\Users\\JoeTe\\AppData\\Local\\Programs\\Python\\Python312\\Lib\\site-packages\\PIL\\Image.py:1219\u001b[0m, in \u001b[0;36mImage.crop\u001b[1;34m(self, box)\u001b[0m\n\u001b[0;32m   1216\u001b[0m     msg \u001b[38;5;241m=\u001b[39m \u001b[38;5;124m\"\u001b[39m\u001b[38;5;124mCoordinate \u001b[39m\u001b[38;5;124m'\u001b[39m\u001b[38;5;124mlower\u001b[39m\u001b[38;5;124m'\u001b[39m\u001b[38;5;124m is less than \u001b[39m\u001b[38;5;124m'\u001b[39m\u001b[38;5;124mupper\u001b[39m\u001b[38;5;124m'\u001b[39m\u001b[38;5;124m\"\u001b[39m\n\u001b[0;32m   1217\u001b[0m     \u001b[38;5;28;01mraise\u001b[39;00m \u001b[38;5;167;01mValueError\u001b[39;00m(msg)\n\u001b[1;32m-> 1219\u001b[0m \u001b[38;5;28;43mself\u001b[39;49m\u001b[38;5;241;43m.\u001b[39;49m\u001b[43mload\u001b[49m\u001b[43m(\u001b[49m\u001b[43m)\u001b[49m\n\u001b[0;32m   1220\u001b[0m \u001b[38;5;28;01mreturn\u001b[39;00m \u001b[38;5;28mself\u001b[39m\u001b[38;5;241m.\u001b[39m_new(\u001b[38;5;28mself\u001b[39m\u001b[38;5;241m.\u001b[39m_crop(\u001b[38;5;28mself\u001b[39m\u001b[38;5;241m.\u001b[39mim, box))\n",
      "File \u001b[1;32mc:\\Users\\JoeTe\\AppData\\Local\\Programs\\Python\\Python312\\Lib\\site-packages\\PIL\\ImageFile.py:291\u001b[0m, in \u001b[0;36mImageFile.load\u001b[1;34m(self)\u001b[0m\n\u001b[0;32m    288\u001b[0m         \u001b[38;5;28;01mraise\u001b[39;00m \u001b[38;5;167;01mOSError\u001b[39;00m(msg)\n\u001b[0;32m    290\u001b[0m b \u001b[38;5;241m=\u001b[39m b \u001b[38;5;241m+\u001b[39m s\n\u001b[1;32m--> 291\u001b[0m n, err_code \u001b[38;5;241m=\u001b[39m \u001b[43mdecoder\u001b[49m\u001b[38;5;241;43m.\u001b[39;49m\u001b[43mdecode\u001b[49m\u001b[43m(\u001b[49m\u001b[43mb\u001b[49m\u001b[43m)\u001b[49m\n\u001b[0;32m    292\u001b[0m \u001b[38;5;28;01mif\u001b[39;00m n \u001b[38;5;241m<\u001b[39m \u001b[38;5;241m0\u001b[39m:\n\u001b[0;32m    293\u001b[0m     \u001b[38;5;28;01mbreak\u001b[39;00m\n",
      "\u001b[1;31mKeyboardInterrupt\u001b[0m: "
     ]
    }
   ],
   "source": [
    "model = Auto()\n",
    "model.to(device)\n",
    "\n",
    "mse_criterion = MSELoss().to(device)\n",
    "l1_criterion = L1Loss().to(device)\n",
    "optimizer = Adam(model.parameters(), lr=1e-4)\n",
    " \n",
    "# Training loop\n",
    "num_epochs = 50\n",
    " \n",
    "# Variable to keep track of the best validation loss\n",
    "best_val_loss = float('inf')\n",
    "if not os.path.exists('../checkpoint'):\n",
    "    os.makedirs(['../checkpoint'])\n",
    "best_model_path = \"../checkpoint/best_model.pth\"\n",
    "\n",
    " \n",
    "for epoch in range(num_epochs):\n",
    "    model.train()\n",
    "    running_loss = 0.0\n",
    "    running_l1_loss = 0.0\n",
    " \n",
    "    # Training phase with progress bar\n",
    "    train_pbar = tqdm(train_dataloader, desc=f\"Epoch [{epoch+1}/{num_epochs}] Training\")\n",
    "    for glare_images, truth_images in train_pbar:\n",
    "        glare_images, truth_images = glare_images.to(device), truth_images.to(device)\n",
    " \n",
    "        # Zero the parameter gradients\n",
    "        optimizer.zero_grad()\n",
    " \n",
    "        # Forward pass\n",
    "        outputs = model(glare_images)\n",
    " \n",
    "        # Compute the loss\n",
    "        loss = mse_criterion(outputs, truth_images)\n",
    "        l1_loss = l1_criterion(outputs, truth_images)\n",
    "\n",
    "\n",
    " \n",
    "        # Backward pass and optimize\n",
    "        loss.backward()\n",
    "        optimizer.step()\n",
    " \n",
    "        running_loss += loss.item() * glare_images.size(0)\n",
    "        running_l1_loss += l1_loss.item() * glare_images.size(0)\n",
    " \n",
    "        # Update progress bar\n",
    "        train_pbar.set_postfix(loss=loss.item())\n",
    " \n",
    "    epoch_loss = running_loss / len(train_dataloader.dataset)\n",
    "    l1_epoch_loss = running_l1_loss / len(train_dataloader.dataset)\n",
    "    print(f'Epoch [{epoch+1}/{num_epochs}], MSE Loss: {epoch_loss:.4f}, L1 Loss: {l1_epoch_loss}')\n",
    " \n",
    "    # Validation phase with progress bar\n",
    "    model.eval()\n",
    "    val_loss = 0.0\n",
    " \n",
    "    val_pbar = tqdm(val_dataloader, desc=f\"Epoch [{epoch+1}/{num_epochs}] Validation\")\n",
    "    with torch.no_grad():\n",
    "        for glare_images, truth_images in val_pbar:\n",
    "            glare_images, truth_images = glare_images.to(device), truth_images.to(device)\n",
    " \n",
    "            # Forward pass\n",
    "            outputs = model(glare_images)\n",
    " \n",
    "            # Compute L1 loss\n",
    "            loss = l1_criterion(outputs, truth_images)\n",
    " \n",
    "            val_loss += loss.item() * glare_images.size(0)\n",
    " \n",
    "            # Update progress bar\n",
    "            val_pbar.set_postfix(loss=loss.item())\n",
    " \n",
    "    val_loss /= len(val_dataloader.dataset)\n",
    "    print(f'L1 Validation Loss: {val_loss:.4f}')\n",
    " \n",
    "    # Save the model if the validation loss is the best we've seen so far\n",
    "    if val_loss < best_val_loss:\n",
    "        best_val_loss = val_loss\n",
    "        torch.save(model.state_dict(), best_model_path)\n",
    "        print(f'Saved Best Model with Validation Loss: {val_loss:.4f}')\n",
    " \n",
    "print('Training complete.')\n",
    "print(f'Best validation loss: {best_val_loss:.4f}')"
   ]
  }
 ],
 "metadata": {
  "kernelspec": {
   "display_name": "virtualenv",
   "language": "python",
   "name": "python3"
  },
  "language_info": {
   "codemirror_mode": {
    "name": "ipython",
    "version": 3
   },
   "file_extension": ".py",
   "mimetype": "text/x-python",
   "name": "python",
   "nbconvert_exporter": "python",
   "pygments_lexer": "ipython3",
   "version": "3.12.4"
  }
 },
 "nbformat": 4,
 "nbformat_minor": 2
}
